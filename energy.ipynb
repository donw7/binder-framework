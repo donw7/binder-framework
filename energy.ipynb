{
 "cells": [
  {
   "cell_type": "code",
   "execution_count": 1,
   "metadata": {},
   "outputs": [],
   "source": [
    "import pandas as pd\n",
    "import numpy as np\n",
    "import matplotlib.pyplot as plt\n",
    "# from sodapy import Socrata # API\n",
    "  # seems to have problems loading e.g. jobs_created\n",
    "import collections\n",
    "import math\n"
   ]
  },
  {
   "cell_type": "markdown",
   "metadata": {},
   "source": [
    "### load data"
   ]
  },
  {
   "cell_type": "code",
   "execution_count": 2,
   "metadata": {},
   "outputs": [],
   "source": [
    "'''from API seems to have problems loading e.g. jobs_created\n",
    "\n",
    "client = Socrata(\"data.cityofnewyork.us\", None)\n",
    "\n",
    "# https://data.cityofnewyork.us/resource/bug8-9f3g.json\n",
    "results = client.get(\"bug8-9f3g\")\n",
    "\n",
    "# Convert to pandas DataFrame\n",
    "energy_data = pd.DataFrame.from_records(results)\n",
    "'''\n",
    "\n",
    "# read while converting numbers with thousands comma to float\n",
    "energy_data = pd.read_csv('Value_of_Energy_Cost_Savings_Program_Savings_for_Businesses_-_FY2020.csv', thousands=',')\n"
   ]
  },
  {
   "cell_type": "code",
   "execution_count": 3,
   "metadata": {},
   "outputs": [
    {
     "data": {
      "text/html": [
       "<div>\n",
       "<style scoped>\n",
       "    .dataframe tbody tr th:only-of-type {\n",
       "        vertical-align: middle;\n",
       "    }\n",
       "\n",
       "    .dataframe tbody tr th {\n",
       "        vertical-align: top;\n",
       "    }\n",
       "\n",
       "    .dataframe thead th {\n",
       "        text-align: right;\n",
       "    }\n",
       "</style>\n",
       "<table border=\"1\" class=\"dataframe\">\n",
       "  <thead>\n",
       "    <tr style=\"text-align: right;\">\n",
       "      <th></th>\n",
       "      <th>Company Name</th>\n",
       "      <th>company contact</th>\n",
       "      <th>company email</th>\n",
       "      <th>company phone</th>\n",
       "      <th>Address</th>\n",
       "      <th>City</th>\n",
       "      <th>State</th>\n",
       "      <th>Postcode</th>\n",
       "      <th>Industry</th>\n",
       "      <th>Industry descr</th>\n",
       "      <th>...</th>\n",
       "      <th>Savings from beginning receiving benefits</th>\n",
       "      <th>Borough</th>\n",
       "      <th>Latitude</th>\n",
       "      <th>Longitude</th>\n",
       "      <th>Community Board</th>\n",
       "      <th>Council District</th>\n",
       "      <th>Census Tract</th>\n",
       "      <th>BIN</th>\n",
       "      <th>BBL</th>\n",
       "      <th>NTA</th>\n",
       "    </tr>\n",
       "  </thead>\n",
       "  <tbody>\n",
       "    <tr>\n",
       "      <th>0</th>\n",
       "      <td>1 State Street</td>\n",
       "      <td>David Neiburg</td>\n",
       "      <td>eskoblo@energyspec.com</td>\n",
       "      <td>7186779077</td>\n",
       "      <td>1114 Avenue J</td>\n",
       "      <td>Brooklyn</td>\n",
       "      <td>NY</td>\n",
       "      <td>11230</td>\n",
       "      <td>Commercial</td>\n",
       "      <td>35 story building</td>\n",
       "      <td>...</td>\n",
       "      <td>349.78</td>\n",
       "      <td>Brooklyn</td>\n",
       "      <td>40.624784</td>\n",
       "      <td>-73.964920</td>\n",
       "      <td>314.0</td>\n",
       "      <td>44.0</td>\n",
       "      <td>534.0</td>\n",
       "      <td>3179818.0</td>\n",
       "      <td>3.067130e+09</td>\n",
       "      <td>Midwood</td>\n",
       "    </tr>\n",
       "    <tr>\n",
       "      <th>1</th>\n",
       "      <td>100 Church LLC</td>\n",
       "      <td>Edward A. Carroll</td>\n",
       "      <td>NaN</td>\n",
       "      <td>2125663000</td>\n",
       "      <td>100 Church Street</td>\n",
       "      <td>NY</td>\n",
       "      <td>NY</td>\n",
       "      <td>10007</td>\n",
       "      <td>Commercial</td>\n",
       "      <td>21 Floors</td>\n",
       "      <td>...</td>\n",
       "      <td>4423698.05</td>\n",
       "      <td>New York</td>\n",
       "      <td>40.712968</td>\n",
       "      <td>-74.009490</td>\n",
       "      <td>101.0</td>\n",
       "      <td>1.0</td>\n",
       "      <td>21.0</td>\n",
       "      <td>1001409.0</td>\n",
       "      <td>1.001250e+09</td>\n",
       "      <td>SoHo-TriBeCa-Civic Center-Little Italy</td>\n",
       "    </tr>\n",
       "    <tr>\n",
       "      <th>2</th>\n",
       "      <td>100 Wall Investments</td>\n",
       "      <td>Jerry Branam</td>\n",
       "      <td>NaN</td>\n",
       "      <td>2122487160</td>\n",
       "      <td>96 Wall Street</td>\n",
       "      <td>New York</td>\n",
       "      <td>NY</td>\n",
       "      <td>10005</td>\n",
       "      <td>Landlord</td>\n",
       "      <td>NaN</td>\n",
       "      <td>...</td>\n",
       "      <td>1814542.62</td>\n",
       "      <td>New York</td>\n",
       "      <td>40.705052</td>\n",
       "      <td>-74.007199</td>\n",
       "      <td>101.0</td>\n",
       "      <td>1.0</td>\n",
       "      <td>7.0</td>\n",
       "      <td>1000875.0</td>\n",
       "      <td>1.000380e+09</td>\n",
       "      <td>Battery Park City-Lower Manhattan</td>\n",
       "    </tr>\n",
       "    <tr>\n",
       "      <th>3</th>\n",
       "      <td>1-10 Bush Terminal Owner LP</td>\n",
       "      <td>Andrew Kimball</td>\n",
       "      <td>akimball@industrycity.com</td>\n",
       "      <td>3474178429</td>\n",
       "      <td>220 36th St, Suite 2A</td>\n",
       "      <td>Brooklyn</td>\n",
       "      <td>NY</td>\n",
       "      <td>11232</td>\n",
       "      <td>Landlord</td>\n",
       "      <td>Special Eligible Premises for eligible businesses</td>\n",
       "      <td>...</td>\n",
       "      <td>6755.31</td>\n",
       "      <td>Brooklyn</td>\n",
       "      <td>40.656061</td>\n",
       "      <td>-74.007334</td>\n",
       "      <td>307.0</td>\n",
       "      <td>38.0</td>\n",
       "      <td>2.0</td>\n",
       "      <td>3398687.0</td>\n",
       "      <td>3.006950e+09</td>\n",
       "      <td>Sunset Park West</td>\n",
       "    </tr>\n",
       "    <tr>\n",
       "      <th>4</th>\n",
       "      <td>120 Broadway Acquisitions JV, LLC (Ldmk)</td>\n",
       "      <td>Carl Letich</td>\n",
       "      <td>clettich@silvprop.com</td>\n",
       "      <td>2124064020</td>\n",
       "      <td>120 Broadway</td>\n",
       "      <td>New York</td>\n",
       "      <td>NY</td>\n",
       "      <td>10271</td>\n",
       "      <td>Commercial</td>\n",
       "      <td>NaN</td>\n",
       "      <td>...</td>\n",
       "      <td>3293055.08</td>\n",
       "      <td>New York</td>\n",
       "      <td>40.708546</td>\n",
       "      <td>-74.011041</td>\n",
       "      <td>101.0</td>\n",
       "      <td>1.0</td>\n",
       "      <td>7.0</td>\n",
       "      <td>1001026.0</td>\n",
       "      <td>1.000478e+09</td>\n",
       "      <td>Battery Park City-Lower Manhattan</td>\n",
       "    </tr>\n",
       "  </tbody>\n",
       "</table>\n",
       "<p>5 rows × 26 columns</p>\n",
       "</div>"
      ],
      "text/plain": [
       "                               Company Name    company contact  \\\n",
       "0                            1 State Street      David Neiburg   \n",
       "1                            100 Church LLC  Edward A. Carroll   \n",
       "2                      100 Wall Investments       Jerry Branam   \n",
       "3               1-10 Bush Terminal Owner LP     Andrew Kimball   \n",
       "4  120 Broadway Acquisitions JV, LLC (Ldmk)        Carl Letich   \n",
       "\n",
       "               company email company phone                Address      City  \\\n",
       "0     eskoblo@energyspec.com    7186779077          1114 Avenue J  Brooklyn   \n",
       "1                        NaN    2125663000      100 Church Street        NY   \n",
       "2                        NaN    2122487160         96 Wall Street  New York   \n",
       "3  akimball@industrycity.com    3474178429  220 36th St, Suite 2A  Brooklyn   \n",
       "4      clettich@silvprop.com    2124064020           120 Broadway  New York   \n",
       "\n",
       "  State  Postcode    Industry  \\\n",
       "0    NY     11230  Commercial   \n",
       "1    NY     10007  Commercial   \n",
       "2    NY     10005    Landlord   \n",
       "3    NY     11232    Landlord   \n",
       "4    NY     10271  Commercial   \n",
       "\n",
       "                                      Industry descr  ...  \\\n",
       "0                                  35 story building  ...   \n",
       "1                                          21 Floors  ...   \n",
       "2                                                NaN  ...   \n",
       "3  Special Eligible Premises for eligible businesses  ...   \n",
       "4                                                NaN  ...   \n",
       "\n",
       "  Savings from beginning receiving benefits   Borough   Latitude  Longitude  \\\n",
       "0                                    349.78  Brooklyn  40.624784 -73.964920   \n",
       "1                                4423698.05  New York  40.712968 -74.009490   \n",
       "2                                1814542.62  New York  40.705052 -74.007199   \n",
       "3                                   6755.31  Brooklyn  40.656061 -74.007334   \n",
       "4                                3293055.08  New York  40.708546 -74.011041   \n",
       "\n",
       "  Community Board  Council District  Census Tract        BIN           BBL  \\\n",
       "0           314.0              44.0         534.0  3179818.0  3.067130e+09   \n",
       "1           101.0               1.0          21.0  1001409.0  1.001250e+09   \n",
       "2           101.0               1.0           7.0  1000875.0  1.000380e+09   \n",
       "3           307.0              38.0           2.0  3398687.0  3.006950e+09   \n",
       "4           101.0               1.0           7.0  1001026.0  1.000478e+09   \n",
       "\n",
       "                                      NTA  \n",
       "0                                 Midwood  \n",
       "1  SoHo-TriBeCa-Civic Center-Little Italy  \n",
       "2       Battery Park City-Lower Manhattan  \n",
       "3                        Sunset Park West  \n",
       "4       Battery Park City-Lower Manhattan  \n",
       "\n",
       "[5 rows x 26 columns]"
      ]
     },
     "execution_count": 3,
     "metadata": {},
     "output_type": "execute_result"
    }
   ],
   "source": [
    "energy_data.head()"
   ]
  },
  {
   "cell_type": "code",
   "execution_count": 4,
   "metadata": {},
   "outputs": [
    {
     "name": "stdout",
     "output_type": "stream",
     "text": [
      "<class 'pandas.core.frame.DataFrame'>\n",
      "RangeIndex: 450 entries, 0 to 449\n",
      "Data columns (total 26 columns):\n",
      " #   Column                                     Non-Null Count  Dtype  \n",
      "---  ------                                     --------------  -----  \n",
      " 0   Company Name                               450 non-null    object \n",
      " 1   company contact                            450 non-null    object \n",
      " 2   company email                              433 non-null    object \n",
      " 3   company phone                              450 non-null    object \n",
      " 4   Address                                    450 non-null    object \n",
      " 5   City                                       450 non-null    object \n",
      " 6   State                                      450 non-null    object \n",
      " 7   Postcode                                   450 non-null    int64  \n",
      " 8   Industry                                   450 non-null    object \n",
      " 9   Industry descr                             434 non-null    object \n",
      " 10  Company Type                               450 non-null    object \n",
      " 11  Current fulltime                           446 non-null    float64\n",
      " 12  Job created                                11 non-null     float64\n",
      " 13  Job retain                                 14 non-null     float64\n",
      " 14  Effective Date                             450 non-null    object \n",
      " 15  Total Savings                              450 non-null    float64\n",
      " 16  Savings from beginning receiving benefits  450 non-null    float64\n",
      " 17  Borough                                    450 non-null    object \n",
      " 18  Latitude                                   409 non-null    float64\n",
      " 19  Longitude                                  409 non-null    float64\n",
      " 20  Community Board                            409 non-null    float64\n",
      " 21  Council District                           409 non-null    float64\n",
      " 22  Census Tract                               409 non-null    float64\n",
      " 23  BIN                                        401 non-null    float64\n",
      " 24  BBL                                        401 non-null    float64\n",
      " 25  NTA                                        409 non-null    object \n",
      "dtypes: float64(12), int64(1), object(13)\n",
      "memory usage: 91.5+ KB\n"
     ]
    }
   ],
   "source": [
    "energy_data.info()"
   ]
  },
  {
   "cell_type": "code",
   "execution_count": 5,
   "metadata": {},
   "outputs": [
    {
     "data": {
      "text/plain": [
       "Index(['Company Name', 'company contact', 'company email', 'company phone',\n",
       "       'Address', 'City', 'State', 'Postcode', 'Industry', 'Industry descr',\n",
       "       'Company Type', 'Current fulltime', 'Job created', 'Job retain',\n",
       "       'Effective Date', 'Total Savings',\n",
       "       'Savings from beginning receiving benefits', 'Borough', 'Latitude',\n",
       "       'Longitude', 'Community Board', 'Council District', 'Census Tract',\n",
       "       'BIN', 'BBL', 'NTA'],\n",
       "      dtype='object')"
      ]
     },
     "execution_count": 5,
     "metadata": {},
     "output_type": "execute_result"
    }
   ],
   "source": [
    "energy_data.columns"
   ]
  },
  {
   "cell_type": "markdown",
   "metadata": {},
   "source": [
    "### 1. How many different companies are represented in the data set?"
   ]
  },
  {
   "cell_type": "code",
   "execution_count": 6,
   "metadata": {},
   "outputs": [
    {
     "data": {
      "text/plain": [
       "0                                1 State Street\n",
       "1                                100 Church LLC\n",
       "2                          100 Wall Investments\n",
       "3                   1-10 Bush Terminal Owner LP\n",
       "4      120 Broadway Acquisitions JV, LLC (Ldmk)\n",
       "                         ...                   \n",
       "445                           WONTON FOOD, INC.\n",
       "446                                  Wood Works\n",
       "447             WorldWide Plumbing Supply, Inc.\n",
       "448                           WUD Furniture LLC\n",
       "449                         Wurtec Incorporated\n",
       "Name: Company Name, Length: 450, dtype: object"
      ]
     },
     "execution_count": 6,
     "metadata": {},
     "output_type": "execute_result"
    }
   ],
   "source": [
    "energy_data['Company Name']"
   ]
  },
  {
   "cell_type": "code",
   "execution_count": 7,
   "metadata": {},
   "outputs": [
    {
     "data": {
      "text/plain": [
       "439"
      ]
     },
     "execution_count": 7,
     "metadata": {},
     "output_type": "execute_result"
    }
   ],
   "source": [
    "len(energy_data['Company Name'].unique())"
   ]
  },
  {
   "cell_type": "code",
   "execution_count": 8,
   "metadata": {},
   "outputs": [
    {
     "data": {
      "text/plain": [
       "439"
      ]
     },
     "execution_count": 8,
     "metadata": {},
     "output_type": "execute_result"
    }
   ],
   "source": [
    "# verify\n",
    "name_counts = collections.Counter(energy_data['Company Name'])\n",
    "len(name_counts)"
   ]
  },
  {
   "cell_type": "markdown",
   "metadata": {},
   "source": [
    "### 2. What is the total number of jobs created for businesses in Queens?"
   ]
  },
  {
   "cell_type": "code",
   "execution_count": 9,
   "metadata": {},
   "outputs": [],
   "source": [
    "job_counts = collections.Counter(energy_data['Job created'])"
   ]
  },
  {
   "cell_type": "code",
   "execution_count": 10,
   "metadata": {},
   "outputs": [],
   "source": [
    "job_counts = energy_data['Job created'].value_counts()"
   ]
  },
  {
   "cell_type": "code",
   "execution_count": 11,
   "metadata": {},
   "outputs": [
    {
     "data": {
      "text/plain": [
       "10.0    3\n",
       "2.0     2\n",
       "60.0    1\n",
       "5.0     1\n",
       "12.0    1\n",
       "15.0    1\n",
       "3.0     1\n",
       "20.0    1\n",
       "Name: Job created, dtype: int64"
      ]
     },
     "execution_count": 11,
     "metadata": {},
     "output_type": "execute_result"
    }
   ],
   "source": [
    "job_counts"
   ]
  },
  {
   "cell_type": "code",
   "execution_count": 12,
   "metadata": {},
   "outputs": [
    {
     "data": {
      "text/plain": [
       "127.0"
      ]
     },
     "execution_count": 12,
     "metadata": {},
     "output_type": "execute_result"
    }
   ],
   "source": [
    "# counts of unique values only\n",
    "np.sum(energy_data['Job created'].value_counts().index.values)"
   ]
  },
  {
   "cell_type": "code",
   "execution_count": 13,
   "metadata": {},
   "outputs": [
    {
     "data": {
      "text/plain": [
       "149.0"
      ]
     },
     "execution_count": 13,
     "metadata": {},
     "output_type": "execute_result"
    }
   ],
   "source": [
    "# boolean indexing, filter and create new df with only job created values\n",
    "jobs_created = energy_data[energy_data['Job created'] > 0]\n",
    "\n",
    "# sum over values of this column in this df\n",
    "np.sum(jobs_created['Job created'])"
   ]
  },
  {
   "cell_type": "code",
   "execution_count": 14,
   "metadata": {},
   "outputs": [
    {
     "data": {
      "text/plain": [
       "149.0"
      ]
     },
     "execution_count": 14,
     "metadata": {},
     "output_type": "execute_result"
    }
   ],
   "source": [
    "# more concise way if do not want to create new df\n",
    "sum(energy_data['Job created'][energy_data['Job created'] > 0])"
   ]
  },
  {
   "cell_type": "markdown",
   "metadata": {},
   "source": [
    "### 3. How many different unique email domains names are there in the data set?"
   ]
  },
  {
   "cell_type": "code",
   "execution_count": 15,
   "metadata": {},
   "outputs": [
    {
     "name": "stdout",
     "output_type": "stream",
     "text": [
      "[('gmail.com', 30), ('aol.com', 22), ('energyspec.com', 3), ('yahoo.com', 3), ('silvercupstudios.com', 3), ('verizon.net', 3), ('hotmail.com', 3), ('fedex.com', 3), ('silvprop.com', 2), ('KLCNY.com', 2)]\n"
     ]
    }
   ],
   "source": [
    "# use built in pandas method .str.split by delimiter\n",
    "emails = energy_data['company email'].str.split('@')\n",
    "\n",
    "# list comprehension for last element of each list of split strings, after filtering out nans\n",
    "domains = [ei[-1] for ei in emails[emails.notna()]]\n",
    "\n",
    "# show top 10 domains\n",
    "print(collections.Counter(domains).most_common(10))\n"
   ]
  },
  {
   "cell_type": "code",
   "execution_count": 16,
   "metadata": {},
   "outputs": [
    {
     "data": {
      "text/plain": [
       "361"
      ]
     },
     "execution_count": 16,
     "metadata": {},
     "output_type": "execute_result"
    }
   ],
   "source": [
    "# number of unique domains\n",
    "len(collections.Counter(domains))"
   ]
  },
  {
   "cell_type": "markdown",
   "metadata": {},
   "source": [
    "### 4. Considering only NTAs with at least 5 listed businesses, what is the average total savings and the total jobs created for each NTA?"
   ]
  },
  {
   "cell_type": "code",
   "execution_count": 17,
   "metadata": {},
   "outputs": [
    {
     "data": {
      "text/plain": [
       "0                                                Midwood\n",
       "1                 SoHo-TriBeCa-Civic Center-Little Italy\n",
       "2                      Battery Park City-Lower Manhattan\n",
       "3                                       Sunset Park West\n",
       "4                      Battery Park City-Lower Manhattan\n",
       "                             ...                        \n",
       "445                                       Bushwick South\n",
       "446                                       Bushwick South\n",
       "447    Mariner's Harbor-Arlington-Port Ivory-Granitev...\n",
       "448                                  Crown Heights North\n",
       "449                                              Astoria\n",
       "Name: NTA, Length: 450, dtype: object"
      ]
     },
     "execution_count": 17,
     "metadata": {},
     "output_type": "execute_result"
    }
   ],
   "source": [
    "energy_data['NTA']"
   ]
  },
  {
   "cell_type": "code",
   "execution_count": 18,
   "metadata": {},
   "outputs": [
    {
     "data": {
      "text/plain": [
       "{'SoHo-TriBeCa-Civic Center-Little Italy': 5,\n",
       " 'Battery Park City-Lower Manhattan': 9,\n",
       " 'Sunset Park West': 48,\n",
       " 'Hunters Point-Sunnyside-West Maspeth': 75,\n",
       " 'College Point': 7,\n",
       " 'Carroll Gardens-Columbia Street-Red Hook': 11,\n",
       " 'Steinway': 7,\n",
       " 'DUMBO-Vinegar Hill-Downtown Brooklyn-Boerum Hill': 10,\n",
       " 'Hunts Point': 13,\n",
       " 'Bushwick South': 10,\n",
       " 'Manhattanville': 9,\n",
       " 'Crown Heights North': 9,\n",
       " 'Queensbridge-Ravenswood-Long Island City': 16,\n",
       " 'Springfield Gardens South-Brookville': 5,\n",
       " 'Mott Haven-Port Morris': 14,\n",
       " 'Maspeth': 9,\n",
       " 'park-cemetery-etc-Brooklyn': 15,\n",
       " 'Greenpoint': 14,\n",
       " 'East Williamsburg': 11,\n",
       " 'East New York': 9}"
      ]
     },
     "execution_count": 18,
     "metadata": {},
     "output_type": "execute_result"
    }
   ],
   "source": [
    "# generate counts and create dictionary filtered from nan and values greater than 4\n",
    "NTA_counts = collections.Counter(energy_data['NTA'])\n",
    "NTA_counts_fil = {k: v for k, v in NTA_counts.items() if type(k) == str and v > 4}\n",
    "NTA_counts_fil"
   ]
  },
  {
   "cell_type": "code",
   "execution_count": 19,
   "metadata": {},
   "outputs": [
    {
     "name": "stdout",
     "output_type": "stream",
     "text": [
      "1      136578.20\n",
      "222       255.99\n",
      "304      5671.16\n",
      "310      1356.05\n",
      "368     42208.72\n",
      "Name: Total Savings, dtype: float64\n",
      "total savings mean = 37214.024\n",
      "jobs created sum = 0.0\n",
      "2       302959.40\n",
      "4       922407.32\n",
      "5       368601.17\n",
      "10       93675.37\n",
      "11       46523.01\n",
      "90       10858.38\n",
      "110     172185.05\n",
      "124     742825.88\n",
      "298    1568981.59\n",
      "Name: Total Savings, dtype: float64\n",
      "total savings mean = 469890.79666666663\n",
      "jobs created sum = 0.0\n",
      "3        2159.67\n",
      "21       5268.09\n",
      "23      11789.99\n",
      "27       1868.34\n",
      "38        512.84\n",
      "40       1538.23\n",
      "51       2691.22\n",
      "64       3283.98\n",
      "68       1152.62\n",
      "70       4717.77\n",
      "73      22853.53\n",
      "82       1242.38\n",
      "86       6034.54\n",
      "87     141833.39\n",
      "97        235.26\n",
      "107      1387.94\n",
      "114      5096.14\n",
      "115      5580.07\n",
      "116      5012.60\n",
      "122      4160.38\n",
      "128    335778.11\n",
      "153       564.38\n",
      "199       -23.92\n",
      "209      4726.00\n",
      "211       212.59\n",
      "221      2835.81\n",
      "229      1811.56\n",
      "246     40015.98\n",
      "248       639.53\n",
      "249     11774.89\n",
      "251       300.10\n",
      "254      5607.59\n",
      "262      1371.57\n",
      "279      9369.06\n",
      "281      1347.27\n",
      "288      3436.76\n",
      "290      1144.88\n",
      "305      5894.91\n",
      "314      1926.80\n",
      "332      1417.84\n",
      "363      1549.91\n",
      "403       551.44\n",
      "419      3066.42\n",
      "422       724.67\n",
      "426      7437.29\n",
      "430      2853.32\n",
      "441     11280.95\n",
      "443      1180.20\n",
      "Name: Total Savings, dtype: float64\n",
      "total savings mean = 14316.976875000002\n",
      "jobs created sum = 0.0\n",
      "6       1637.29\n",
      "12     28291.04\n",
      "15      4853.46\n",
      "36     25418.76\n",
      "41      7448.69\n",
      "         ...   \n",
      "415    12962.55\n",
      "416     6802.34\n",
      "425    34845.60\n",
      "427    14122.57\n",
      "436     2132.69\n",
      "Name: Total Savings, Length: 75, dtype: float64\n",
      "total savings mean = 23931.398933333337\n",
      "jobs created sum = 0.0\n",
      "8       2534.00\n",
      "123    13018.94\n",
      "283     1394.78\n",
      "324    54127.14\n",
      "329     1322.76\n",
      "356    44503.65\n",
      "360     3214.34\n",
      "Name: Total Savings, dtype: float64\n",
      "total savings mean = 17159.372857142855\n",
      "jobs created sum = 2.0\n",
      "9       31483.87\n",
      "100    113206.94\n",
      "169      1396.20\n",
      "201       514.84\n",
      "315       528.66\n",
      "326    108528.74\n",
      "327       356.45\n",
      "333      6447.02\n",
      "349      2057.25\n",
      "385       276.65\n",
      "438      2914.67\n",
      "Name: Total Savings, dtype: float64\n",
      "total savings mean = 24337.390000000003\n",
      "jobs created sum = 0.0\n",
      "14      4922.25\n",
      "20      3629.27\n",
      "127      777.39\n",
      "191     5936.58\n",
      "271    10067.77\n",
      "433     2056.80\n",
      "439    51200.03\n",
      "Name: Total Savings, dtype: float64\n",
      "total savings mean = 11227.155714285715\n",
      "jobs created sum = 20.0\n",
      "16       7438.51\n",
      "17      15473.37\n",
      "46      44169.37\n",
      "98     405875.22\n",
      "129      2428.59\n",
      "325      1581.14\n",
      "413     68393.30\n",
      "421     26746.14\n",
      "431       750.63\n",
      "444     26647.13\n",
      "Name: Total Savings, dtype: float64\n",
      "total savings mean = 59950.340000000004\n",
      "jobs created sum = 0.0\n",
      "26      23372.88\n",
      "48      44334.30\n",
      "60       6425.63\n",
      "61     132446.92\n",
      "120    181579.24\n",
      "133      3218.34\n",
      "197      1766.70\n",
      "233     13038.55\n",
      "263      2235.37\n",
      "275     30769.92\n",
      "316     19822.31\n",
      "397     36186.05\n",
      "442     15002.00\n",
      "Name: Total Savings, dtype: float64\n",
      "total savings mean = 39246.016153846154\n",
      "jobs created sum = 12.0\n",
      "28       6393.98\n",
      "39       1586.41\n",
      "159     17419.72\n",
      "202     10746.27\n",
      "308      6977.32\n",
      "398        67.01\n",
      "411    178697.62\n",
      "412      2674.20\n",
      "445     35384.76\n",
      "446      1457.26\n",
      "Name: Total Savings, dtype: float64\n",
      "total savings mean = 26140.455000000005\n",
      "jobs created sum = 10.0\n",
      "30     2508.11\n",
      "31     1467.64\n",
      "135    1287.07\n",
      "184    3738.54\n",
      "223    1552.31\n",
      "293    3309.86\n",
      "375    5301.47\n",
      "395    3080.01\n",
      "437    2602.99\n",
      "Name: Total Savings, dtype: float64\n",
      "total savings mean = 2760.8888888888887\n",
      "jobs created sum = 0.0\n",
      "35      2112.96\n",
      "74       978.13\n",
      "78      4232.34\n",
      "194    17606.37\n",
      "215      525.84\n",
      "231     7276.72\n",
      "352      351.86\n",
      "386      757.63\n",
      "448     2484.84\n",
      "Name: Total Savings, dtype: float64\n",
      "total savings mean = 4036.298888888889\n",
      "jobs created sum = 0.0\n",
      "43      11592.42\n",
      "108      1698.03\n",
      "130      1728.30\n",
      "139       372.55\n",
      "145     34384.89\n",
      "147      8651.48\n",
      "149     20959.99\n",
      "226    759480.44\n",
      "227     57634.59\n",
      "237      1609.00\n",
      "296      3137.03\n",
      "303     57647.36\n",
      "321      9977.77\n",
      "323     10360.79\n",
      "340      5919.95\n",
      "357      4137.74\n",
      "Name: Total Savings, dtype: float64\n",
      "total savings mean = 61830.770625\n",
      "jobs created sum = 0.0\n",
      "49      4968.04\n",
      "182    27023.16\n",
      "234     4463.18\n",
      "245    11402.18\n",
      "382    40931.75\n",
      "Name: Total Savings, dtype: float64\n",
      "total savings mean = 17757.662\n",
      "jobs created sum = 0.0\n",
      "52      2297.44\n",
      "89     50745.61\n",
      "95      3057.76\n",
      "126      968.86\n",
      "154    82103.25\n",
      "166    58899.75\n",
      "203    24613.09\n",
      "318      341.93\n",
      "330      657.58\n",
      "353        1.85\n",
      "364     1374.77\n",
      "374     9962.93\n",
      "393    14771.61\n",
      "432       18.70\n",
      "Name: Total Savings, dtype: float64\n",
      "total savings mean = 17843.937857142857\n",
      "jobs created sum = 10.0\n",
      "53     12209.80\n",
      "137       52.33\n",
      "164     3379.82\n",
      "200    26085.73\n",
      "256      301.71\n",
      "287     6102.79\n",
      "302     5226.51\n",
      "339     3389.47\n",
      "390     3176.39\n",
      "Name: Total Savings, dtype: float64\n",
      "total savings mean = 6658.283333333334\n",
      "jobs created sum = 10.0\n",
      "54      4385.80\n",
      "96      1340.05\n",
      "119      920.08\n",
      "163     9584.90\n",
      "176     1951.66\n",
      "178     2347.61\n",
      "193    81492.53\n",
      "207     3040.72\n",
      "252    64379.58\n",
      "328     3509.41\n",
      "337     1509.56\n",
      "348     9848.65\n",
      "354    18093.75\n",
      "387     1150.25\n",
      "406    11356.74\n",
      "Name: Total Savings, dtype: float64\n",
      "total savings mean = 14327.419333333331\n",
      "jobs created sum = 0.0\n",
      "65     19006.75\n",
      "131    14170.40\n",
      "168     3941.88\n",
      "188    29759.29\n",
      "189     1124.80\n",
      "243    16592.79\n",
      "253     1422.89\n",
      "270     4248.34\n",
      "319      917.37\n",
      "322     4244.62\n",
      "344     8099.40\n",
      "367       26.55\n",
      "377     6816.04\n",
      "389    26179.97\n",
      "Name: Total Savings, dtype: float64\n",
      "total savings mean = 9753.649285714284\n",
      "jobs created sum = 0.0\n",
      "66     15081.15\n",
      "71     18965.75\n",
      "80     29983.97\n",
      "190    17007.33\n",
      "204    21908.99\n",
      "273     1182.37\n",
      "284     1248.65\n",
      "362    16342.22\n",
      "372     5185.47\n",
      "391     2753.54\n",
      "440    24237.45\n",
      "Name: Total Savings, dtype: float64\n",
      "total savings mean = 13990.626363636366\n",
      "jobs created sum = 0.0\n",
      "112      2261.28\n",
      "125      8075.15\n",
      "160     64896.54\n",
      "161       867.85\n",
      "162      9210.43\n",
      "396      2808.62\n",
      "405    328812.48\n",
      "414     10646.47\n",
      "434      8319.02\n",
      "Name: Total Savings, dtype: float64\n",
      "total savings mean = 48433.09333333333\n",
      "jobs created sum = 15.0\n"
     ]
    }
   ],
   "source": [
    "savings_mean = {}\n",
    "jobs_total_NTA = {}\n",
    "for k, v in NTA_counts_fil.items():\n",
    "    df_fil = energy_data[energy_data['NTA'] == k]\n",
    "    savings_mean[k] = df_fil['Total Savings'].mean()\n",
    "    jobs_total_NTA[k] = df_fil['Job created'].sum()\n",
    "    # visualize\n",
    "    print(df_fil['Total Savings'])\n",
    "    print(f\"total savings mean = {df_fil['Total Savings'].mean()}\")\n",
    "    print(f\"jobs created sum = {df_fil['Job created'].sum()}\")\n",
    "    "
   ]
  },
  {
   "cell_type": "code",
   "execution_count": 20,
   "metadata": {},
   "outputs": [
    {
     "data": {
      "text/plain": [
       "{'SoHo-TriBeCa-Civic Center-Little Italy': 37214.024,\n",
       " 'Battery Park City-Lower Manhattan': 469890.79666666663,\n",
       " 'Sunset Park West': 14316.976875000002,\n",
       " 'Hunters Point-Sunnyside-West Maspeth': 23931.398933333337,\n",
       " 'College Point': 17159.372857142855,\n",
       " 'Carroll Gardens-Columbia Street-Red Hook': 24337.390000000003,\n",
       " 'Steinway': 11227.155714285715,\n",
       " 'DUMBO-Vinegar Hill-Downtown Brooklyn-Boerum Hill': 59950.340000000004,\n",
       " 'Hunts Point': 39246.016153846154,\n",
       " 'Bushwick South': 26140.455000000005,\n",
       " 'Manhattanville': 2760.8888888888887,\n",
       " 'Crown Heights North': 4036.298888888889,\n",
       " 'Queensbridge-Ravenswood-Long Island City': 61830.770625,\n",
       " 'Springfield Gardens South-Brookville': 17757.662,\n",
       " 'Mott Haven-Port Morris': 17843.937857142857,\n",
       " 'Maspeth': 6658.283333333334,\n",
       " 'park-cemetery-etc-Brooklyn': 14327.419333333331,\n",
       " 'Greenpoint': 9753.649285714284,\n",
       " 'East Williamsburg': 13990.626363636366,\n",
       " 'East New York': 48433.09333333333}"
      ]
     },
     "execution_count": 20,
     "metadata": {},
     "output_type": "execute_result"
    }
   ],
   "source": [
    "savings_mean"
   ]
  },
  {
   "cell_type": "code",
   "execution_count": 21,
   "metadata": {},
   "outputs": [
    {
     "data": {
      "text/plain": [
       "{'SoHo-TriBeCa-Civic Center-Little Italy': 0.0,\n",
       " 'Battery Park City-Lower Manhattan': 0.0,\n",
       " 'Sunset Park West': 0.0,\n",
       " 'Hunters Point-Sunnyside-West Maspeth': 0.0,\n",
       " 'College Point': 2.0,\n",
       " 'Carroll Gardens-Columbia Street-Red Hook': 0.0,\n",
       " 'Steinway': 20.0,\n",
       " 'DUMBO-Vinegar Hill-Downtown Brooklyn-Boerum Hill': 0.0,\n",
       " 'Hunts Point': 12.0,\n",
       " 'Bushwick South': 10.0,\n",
       " 'Manhattanville': 0.0,\n",
       " 'Crown Heights North': 0.0,\n",
       " 'Queensbridge-Ravenswood-Long Island City': 0.0,\n",
       " 'Springfield Gardens South-Brookville': 0.0,\n",
       " 'Mott Haven-Port Morris': 10.0,\n",
       " 'Maspeth': 10.0,\n",
       " 'park-cemetery-etc-Brooklyn': 0.0,\n",
       " 'Greenpoint': 0.0,\n",
       " 'East Williamsburg': 0.0,\n",
       " 'East New York': 15.0}"
      ]
     },
     "execution_count": 21,
     "metadata": {},
     "output_type": "execute_result"
    }
   ],
   "source": [
    "jobs_total_NTA"
   ]
  },
  {
   "cell_type": "code",
   "execution_count": 22,
   "metadata": {},
   "outputs": [
    {
     "data": {
      "text/plain": [
       "<matplotlib.collections.PathCollection at 0x1d1ff00a1f0>"
      ]
     },
     "execution_count": 22,
     "metadata": {},
     "output_type": "execute_result"
    },
    {
     "data": {
      "image/png": "[encoded data removed]",
      "text/plain": [
       "<Figure size 432x288 with 1 Axes>"
      ]
     },
     "metadata": {
      "needs_background": "light"
     },
     "output_type": "display_data"
    }
   ],
   "source": [
    "plt.scatter(jobs_total_NTA.values(), savings_mean.values())"
   ]
  },
  {
   "cell_type": "code",
   "execution_count": 23,
   "metadata": {},
   "outputs": [
    {
     "data": {
      "text/plain": [
       "(array([17.,  2.,  0.,  0.,  0.,  0.,  0.,  0.,  0.,  1.]),\n",
       " array([  2760.88888889,  49473.87966667,  96186.87044444, 142899.86122222,\n",
       "        189612.852     , 236325.84277778, 283038.83355556, 329751.82433333,\n",
       "        376464.81511111, 423177.80588889, 469890.79666667]),\n",
       " <BarContainer object of 10 artists>)"
      ]
     },
     "execution_count": 23,
     "metadata": {},
     "output_type": "execute_result"
    },
    {
     "data": {
      "image/png": "[encoded data removed]",
      "text/plain": [
       "<Figure size 432x288 with 1 Axes>"
      ]
     },
     "metadata": {
      "needs_background": "light"
     },
     "output_type": "display_data"
    }
   ],
   "source": [
    "# histogram of the log of the average total savings.\n",
    "plt.hist(savings_mean.values())"
   ]
  },
  {
   "cell_type": "code",
   "execution_count": 24,
   "metadata": {},
   "outputs": [
    {
     "data": {
      "text/plain": [
       "[<matplotlib.lines.Line2D at 0x1d180139d60>]"
      ]
     },
     "execution_count": 24,
     "metadata": {},
     "output_type": "execute_result"
    },
    {
     "data": {
      "image/png": "[encoded data removed]",
      "text/plain": [
       "<Figure size 432x288 with 1 Axes>"
      ]
     },
     "metadata": {
      "needs_background": "light"
     },
     "output_type": "display_data"
    }
   ],
   "source": [
    "# line plot of the total jobs created for each month.\n",
    "plt.plot(energy_data['Job created'])"
   ]
  },
  {
   "cell_type": "code",
   "execution_count": null,
   "metadata": {},
   "outputs": [],
   "source": []
  }
 ],
 "metadata": {
  "interpreter": {
   "hash": "a754bb2091bc06281c23baa8df2f36974959dfa585082cd4a94be65e5e9e6ca6"
  },
  "kernelspec": {
   "display_name": "Python 3.9.7 ('torch-env')",
   "language": "python",
   "name": "python3"
  },
  "language_info": {
   "codemirror_mode": {
    "name": "ipython",
    "version": 3
   },
   "file_extension": ".py",
   "mimetype": "text/x-python",
   "name": "python",
   "nbconvert_exporter": "python",
   "pygments_lexer": "ipython3",
   "version": "3.9.7"
  },
  "orig_nbformat": 4
 },
 "nbformat": 4,
 "nbformat_minor": 2
}
